{
 "metadata": {
  "name": "Astronomy 425 Problem Set 2"
 },
 "nbformat": 3,
 "nbformat_minor": 0,
 "worksheets": [
  {
   "cells": [
    {
     "cell_type": "heading",
     "level": 4,
     "metadata": {},
     "source": [
      "Eric Bochsler$$$$\n",
      "Astronomy 425$$$$\n",
      "Problem Set 2$$$$"
     ]
    },
    {
     "cell_type": "code",
     "collapsed": false,
     "input": [
      "import numpy as np\n",
      "import matplotlib.pylab as plt\n",
      "from scipy import integrate"
     ],
     "language": "python",
     "metadata": {},
     "outputs": [],
     "prompt_number": 2
    },
    {
     "cell_type": "markdown",
     "metadata": {},
     "source": [
      "$1.$ In an Olberian Universe, the luminosity of the sky would blow up toward infinity because the infinite size of the universe with a constant density of stars would result in every line of sight crossing the location of a star. This problem seeks to find the distance in which every line of sight would intersect the surface of a star assuming all stars have the same luminosity as the Sun and that the density of stars $\\rho$ is $10^{9}$Mpc$^{-3}$. Each star is assumed to have radius $r=7X10^{8}$m. If this is what the universe looked like, the surface brightness of the sky would be equal to that of a typical star, in this case a star with solar luminosity. The surface brightness of a star of solar luminosity is given by $L_{\\odot} \\over4\\pi s^{2}$ where $s$ is the typical radius of a star. This is set equal to the surface brighness of the sky $J=$$\\rho L\\_{odot} \\over 4\\pi$$\\int_{0}^R dr$ where R is the distance from the observer. $$$$\n",
      "$L_{\\odot} \\over4\\pi s^{2}$$=$$\\rho L\\_{odot} \\over 4\\pi$$\\int_{0}^R dr$ $$$$\n",
      "$1 \\over s^{2}$$=$$\\rho $$\\int_{0}^R dr$ $$$$\n",
      "$1 \\over s^{2}\\rho$$=$$\\int_{0}^R dr$ $$$$\n",
      "$R=(s^{2}\\rho)^{-1}$"
     ]
    },
    {
     "cell_type": "code",
     "collapsed": false,
     "input": [
      "rho = 1e9 #Mpc^(-3)\n",
      "s = 7e8 #m\n",
      "s0 = 7e8/3.086e22 #Mpc\n",
      "d = ((s0**2)*rho)**(-1)\n",
      "print 'Distance for line for all line-of-sight to intersect star:',d,'Mpc'"
     ],
     "language": "python",
     "metadata": {},
     "outputs": [
      {
       "output_type": "stream",
       "stream": "stdout",
       "text": [
        "Distance for line for all line-of-sight to intersect star: 1.94355020408e+18 Mpc\n"
       ]
      }
     ],
     "prompt_number": 36
    },
    {
     "cell_type": "markdown",
     "metadata": {},
     "source": [
      "$2.$\n",
      "The current best estimate for Hubble's constant is 73.8 km s$^{-1}$Mpc$^{-1}$. When Hubble originally derived his constant, he found a value of 500 km s$^{-1}$Mpc$^{-1}$. Hubble's Law states $v = H_0r$ meaning that the recessional velocity $v$ of a galaxy is proportional to its distance $r$ from the observer. Since Hubble calculated his constant to be seven times larger than the current best estimate, but knew $v$ very well for the galaxies that he used, the distances $r$ that he measured to the galaxies must have been about seven times too small. Hubble's estimates of the distance to the Cepheid stars he used to find $r$ was therefore off by a factor of seven. Hubble's value for his constant would indicate that the universe was younger than our estimate of 13.7 Gyr. This is because the velocity of the universe's expansion Hubble found was too large and the distances between galaxies too small so when time was run in reverse, all galaxies would have been at the same point much more recently. A universe with accelerating expansion could reconcile the current age of the universe with the Hubble time. This is because Hubble's constant would have been smaller in the past with in a universe with accelerating expansion so that it would have been farther in the past that there was no distance between galaxies."
     ]
    },
    {
     "cell_type": "markdown",
     "metadata": {},
     "source": [
      "$3.$ Spherical polar coordinates give that $ds^{2}=dr^{2}+r^{2}(d\\theta^{2}+sin^{2}\\theta d\\phi^{2})$. Since the observer lives in a $2-D$ world on a sphere with radius $R$, $dr=0$ and $r=R$. Now we have $ds^{2}=R^{2}(d\\theta^{2}+sin^{2}\\theta d\\phi^{2})$. When the an object is at a distance $r$, it is at an angle $\\theta = r/R$ and $d\\theta=0$. Now switching $d\\phi$ for $d\\theta$ gives $ds=Rsin(r/R)d\\theta$ which can be rearranged to $d\\theta=$$ds\\over{Rsin(r/R)}$\n",
      "This relation for the angular width of the object $d\\theta$ tells us that as $r$ approaches $\\pi$$R$, the angular width goes to infinity. This makes sense when thinking about how light travels. Since light travels on the shortest path between one point and another (along a geodesic) when the object's distance is $\\pi$$R$, there are an infinite number of paths of length $\\pi$$R$ for light to travel, so it takes all of these paths. Light from this object is therefore seen coming from every direction so that the angular width blows up towards infinity."
     ]
    },
    {
     "cell_type": "markdown",
     "metadata": {},
     "source": [
      "$4.$  $\\dot{a}^{2} = H_0^{2}a^{-3}$ Can integrate first order differential equation $\\dot{a} = \\sqrt{H_0^{2}a^{-3}}$ $= H_{0}$$ a^{- 3\\over2}$"
     ]
    },
    {
     "cell_type": "code",
     "collapsed": false,
     "input": [
      "def function(a, t):\n",
      "    H0 = H*(3.15e16/(3e19))\n",
      "    return H0*(a**(-3.0/2.0))\n",
      "H = 70 #km s^-1 Mpc^-1\n",
      "H0 = H*(3.15e16/(3e19)) # Unit Conversion\n",
      "T = np.linspace(0, 10, 50)\n",
      "a1 = integrate.odeint(function,0.01,T)\n",
      "\n",
      "plt.plot(T, a1)\n",
      "plt.xlabel('t (Gyr)')\n",
      "plt.ylabel('a(t)')\n",
      "plt.title('a(t) Solved Numberically by Python Integration')\n",
      "plt.show()"
     ],
     "language": "python",
     "metadata": {},
     "outputs": [],
     "prompt_number": 113
    },
    {
     "cell_type": "markdown",
     "metadata": {},
     "source": [
      "Algebraic Solution: $$$$\n",
      "$$\\dot{a}^{2} = H_0^{2}a^{-3}$$ $$$$\n",
      "$da\\over{dt}$$^{2}=H_0^{2}a^{-3}$ $$$$\n",
      "$da\\over{dt}$$=\\pm H_0a^{-3/2} $$$$$\n",
      "$a^{3/2}da=\\pm H_0dt$ $$$$\n",
      "$\\int a^{3/2}da=\\pm H_0\\int dt$ $$$$\n",
      "$2 \\over{5}$$ a^{5/2}=\\pm H_0t+c$ $$$$\n",
      "$a(t)=($$5\\over2$$(c\\pm H_0t))^{2/5}$ $$$$\n",
      "The universe is expanding, so the solution with the $+$ is taken as the correct solution: $$$$\n",
      "$a(t)=($$5\\over2$$(c+H_0t))^{2/5}$ $$$$\n",
      "$a(t)=($$5\\over2$$(H_0t))^{2/5}$"
     ]
    },
    {
     "cell_type": "code",
     "collapsed": false,
     "input": [
      "T = np.linspace(0,10,50)\n",
      "def a(t,H):\n",
      "    return ((5.0/2.0)*(H*t))**(2.0/5.0)\n",
      "H = 70 #km s^-1 Mpc^-1\n",
      "H0 = H*(3.15e16/(3e19)) # Unit Conversion\n",
      "plt.figure()\n",
      "plt.title('Algebraic Solution overlaid on plot of Numerical Solution')\n",
      "plt.xlabel('t (Gyr)')\n",
      "plt.ylabel('a(t)')\n",
      "plt.plot(T,a(T,H0),label='Algebraic Solution',ls='',marker='o', color = 'r')\n",
      "plt.plot(T,a1, label='Numerical Solution')\n",
      "plt.legend(loc=0)\n",
      "plt.show()"
     ],
     "language": "python",
     "metadata": {},
     "outputs": [],
     "prompt_number": 114
    },
    {
     "cell_type": "code",
     "collapsed": false,
     "input": [],
     "language": "python",
     "metadata": {},
     "outputs": []
    }
   ],
   "metadata": {}
  }
 ]
}