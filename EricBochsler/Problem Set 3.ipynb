{
 "metadata": {
  "name": "Problem Set 3"
 },
 "nbformat": 3,
 "nbformat_minor": 0,
 "worksheets": [
  {
   "cells": [
    {
     "cell_type": "heading",
     "level": 4,
     "metadata": {},
     "source": [
      "Eric Bochsler $$$$\n",
      "Astronomy 425 $$$$\n",
      "Problem Set 3 $$$$"
     ]
    },
    {
     "cell_type": "markdown",
     "metadata": {},
     "source": [
      "$1.$ In this problem I derive the Fluid Equation $\\dot{\\epsilon(t)}+ {3\\dot{a(t)} \\over a(t)}(\\epsilon(t)+P(t))=0$ from the Acceleration Equation ${\\ddot{a(t)} \\over a(t)} = -{4 \\pi G\\over 3c^{2}}[\\epsilon(t) + 3P(t)]$ and the Friedmann Equation below: $$$$ \n",
      "$({\\dot{a(t)} \\over a(t)})^{2}={8 \\pi G \\epsilon(t) \\over 3c^{2}}-{kc^{2} \\over a(t)^{2}}$ \n",
      "$$$$\n",
      "${d \\over dt}{\\dot{a(t)}^{2} \\over a(t)^{2}}={d \\over dt} ({8 \\pi G \\epsilon(t) \\over 3c^{2}}-{kc^{2} \\over a(t)^{2}})$ $$$$\n",
      "$ {2 \\dot{a(t)} \\ddot{a(t)} \\over a(t)^{2}}-{2\\dot{a(t)}^{3} \\over a(t)^{3}}={8 \\pi G \\dot{\\epsilon(t)} \\over 3c^{2} \\dot{a(t)}} + {2kc^{2} \\over a(t)^{3}}$ \n",
      "$$$$\n",
      "${\\ddot{a(t)} \\over a(t)} - ({\\dot{a(t)} \\over a(t)})^{2}={4 \\pi G \\dot{\\epsilon(t)}a(t) \\over 3c^{2}\\dot{a(t)}} + {kc^{2} \\over a(t)^{2}}$ \n",
      "$$$$\n",
      "${\\ddot{a(t)} \\over a(t)} - ({8 \\pi G \\epsilon(t) \\over 3c^{2}}-{kc^{2} \\over a(t)^{2}})={4 \\pi G \\dot{\\epsilon(t)}a(t) \\over 3c^{2}\\dot{a(t)}} + {kc^{2} \\over a(t)^{2}}$\n",
      "$$$$\n",
      "${\\ddot{a(t)} \\over a(t)} - {8 \\pi G \\epsilon(t) \\over 3c^{2}}={4 \\pi G \\dot{\\epsilon(t)}a(t) \\over 3c^{2}\\dot{a(t)}}$\n",
      "$$$$\n",
      "${\\ddot{a(t)} \\over a(t)} = {8 \\pi G \\epsilon(t) \\over 3c^{2}}+{4 \\pi G \\dot{\\epsilon(t)}a(t) \\over 3c^{2}\\dot{a(t)}}$\n",
      "$$$$\n",
      "$-{4 \\pi G\\over 3c^{2}}[\\epsilon(t) + 3P(t)]={8 \\pi G \\epsilon(t) \\over 3c^{2}}+{4 \\pi G \\dot{\\epsilon(t)}a(t) \\over 3c^{2}\\dot{a(t)}}$\n",
      "$$$$\n",
      "$-[\\epsilon(t) + 3P(t)]=2 \\epsilon(t) + {\\dot{\\epsilon(t)}a(t) \\over \\dot{a(t)}}$\n",
      "$$$$\n",
      "$[\\epsilon(t) + 3P(t)]+2 \\epsilon(t) + {\\dot{\\epsilon(t)}a(t) \\over \\dot{a(t)}}=0$\n",
      "$$$$\n",
      "$3[\\epsilon(t) + P(t)]+ {\\dot{\\epsilon(t)}a(t) \\over \\dot{a(t)}}=0$\n",
      "$$$$\n",
      "${3\\dot{a(t)} \\over a(t)}[\\epsilon(t) + P(t)]+ \\dot{\\epsilon(t)}=0$\n",
      "$$$$\n",
      "Description of Steps: The derivative of both sides of the Friedmann Equation were found, and the expression simplified. The $({\\dot{a(t)} \\over a(t)})^{2}$ term was substituted using the Friedmann Equation with the result allowing terms to be canceled. The equation was solved for ${\\ddot{a(t)} \\over a(t)}$ and set equal to the RHS of the Acceleration Equation. This expression was then simplified and resulted in the Fluid Equation. This derivation demonstrates that only two of the three equations are independent."
     ]
    },
    {
     "cell_type": "markdown",
     "metadata": {},
     "source": [
      "$2.$ $$$$\n",
      "$({H(z) \\over H_0})^2 =( \\Omega_{r,0}(1+z)^4+ \\Omega_{m,0}(1+z)^3+ \\Omega_{ \\Lambda,0}+ (1- \\Omega_0)(1+z)^2)$ $$$$"
     ]
    },
    {
     "cell_type": "code",
     "collapsed": false,
     "input": [
      "#inline not working for plots\n",
      "\n",
      "import numpy as np\n",
      "import matplotlib.pylab as plt\n",
      "from scipy.integrate import quad\n",
      "\n",
      "H0 = 70 #km s^-1 Mpc^-1\n",
      "c = 3.0e5 #km s^-1\n",
      "def Hz(H0, Omr, Omm, Oml, z):\n",
      "    Om0 = Omr + Omm + Oml\n",
      "    return H0*( Omr*(1+z)**(4.0) + Omm*(1+z)**(3.0) + Oml + (1-Om0)*(1+z)**(2.0) )**(1.0/2.0)\n",
      "redshift = np.linspace(0, 10, 100)\n",
      "universeA = lambda redshift: c / Hz(H0,0,0.3,0.7,redshift)\n",
      "universeB = lambda redshift: c / Hz(H0,0.5,0.5,0,redshift)\n",
      "coMoveA = np.array([])\n",
      "coMoveB = np.array([])\n",
      "H = H0 * (3.15e16/3e19) #Hubble Constant for Age in Gyr (s to Gyr, Mpc to km)\n",
      "for i in redshift:\n",
      "    A = quad(universeA, 0, i)\n",
      "    B = quad(universeB, 0, i)\n",
      "    coMoveA = np.append(coMoveA, A[0])\n",
      "    coMoveB = np.append(coMoveB, B[0])\n",
      "    \n",
      "ageA = np.array([])\n",
      "ageB = np.array([])\n",
      "tEquationA = lambda redshift: (1+redshift)**(-1.0)*(Hz(H,0,0.3,0.7,redshift))**(-1.0)\n",
      "tEquationB = lambda redshift: (1+redshift)**(-1.0)*(Hz(H,0.5,0.5,0,redshift))**(-1.0)\n",
      "for j in redshift:\n",
      "    A = quad(tEquationA, 0, j)\n",
      "    B = quad(tEquationB, 0, j)\n",
      "    ageA = np.append(ageA, A[0])\n",
      "    ageB = np.append(ageB, B[0])"
     ],
     "language": "python",
     "metadata": {},
     "outputs": [
      {
       "output_type": "stream",
       "stream": "stderr",
       "text": [
        "ERROR: Line magic function `%matplotlib` not found."
       ]
      }
     ],
     "prompt_number": 85
    },
    {
     "cell_type": "code",
     "collapsed": false,
     "input": [
      "#Plot of Co-Moving Distance\n",
      "plt.figure()\n",
      "plt.plot(redshift, coMoveA, label = '$ \\Omega_{r,0}=0 \\ \\Omega_{m,0}=0.3 \\ \\Omega_{ \\Lambda,0}=0.7 $')\n",
      "plt.plot(redshift, coMoveB, label = '$ \\Omega_{r,0}=0.5 \\ \\Omega_{m,0}=0.5 \\ \\Omega_{ \\Lambda,0}=0 $')\n",
      "plt.title('Comoving Distance as a function of Redshift')\n",
      "plt.xlabel('Redshift (z)')\n",
      "plt.ylabel('Comoving Distance (Mpc)')\n",
      "plt.legend(loc=4)\n",
      "plt.show()"
     ],
     "language": "python",
     "metadata": {},
     "outputs": [],
     "prompt_number": 83
    },
    {
     "cell_type": "code",
     "collapsed": false,
     "input": [
      "#Plot of Age of Universe\n",
      "plt.figure()\n",
      "plt.plot(redshift, ageA, label = '$ \\Omega_{r,0}=0 \\ \\Omega_{m,0}=0.3 \\ \\Omega_{ \\Lambda,0}=0.7 $')\n",
      "plt.plot(redshift, ageB, label = '$ \\Omega_{r,0}=0.5 \\ \\Omega_{m,0}=0.5 \\ \\Omega_{ \\Lambda,0}=0 $')\n",
      "plt.title('Lookback Time as a function of Redshift')\n",
      "plt.xlabel('Redshift (z)')\n",
      "plt.ylabel('Lookback Time (Gyr)')\n",
      "plt.legend(loc=4)\n",
      "plt.show()"
     ],
     "language": "python",
     "metadata": {},
     "outputs": [],
     "prompt_number": 68
    },
    {
     "cell_type": "markdown",
     "metadata": {},
     "source": [
      "$3.$ Using the program from above, I found the value of $\\Omega_{m,0}$ for a matter-only, open universe that would result in the same age as our benchmark flat universe with $\\Omega_{m,0} = 0.3$ and $\\Omega_{\\Lambda,0}=0.7$. The result was obtained using the while loop below. The value was found to be $\\Omega_{m,0} = 0.021458$"
     ]
    },
    {
     "cell_type": "code",
     "collapsed": false,
     "input": [
      "age1 = quad(tEquationA, 0, 10000)\n",
      "benchmarkAge = age1[0]\n",
      "incrementSize = 0.000001\n",
      "omegaM = 0.0\n",
      "openAge = 6000 #arbitrary number larger than benchmark age in Gyr\n",
      "while(benchmarkAge <= openAge):\n",
      "    omegaM += incrementSize\n",
      "    tEquation3 = lambda redshift: (1+redshift)**(-1.0)*(Hz(H,0,omegaM,0,redshift))**(-1.0)\n",
      "    age2 = quad(tEquation3, 0, 10000)\n",
      "    openAge = age2[0]\n",
      "    \n",
      "print 'Age of Open Universe with determined Omega matter value: ',openAge\n",
      "print 'Age of Benchmark Universe: ', benchmarkAge\n",
      "print 'Determined Value of Omega matter: ', omegaM"
     ],
     "language": "python",
     "metadata": {},
     "outputs": [
      {
       "output_type": "stream",
       "stream": "stdout",
       "text": [
        "Age of Open Universe with determined Omega matter value:  13.1169813419\n",
        "Age of Benchmark Universe:  13.1169818321\n",
        "Determined Value of Omega matter:  0.021458\n"
       ]
      }
     ],
     "prompt_number": 78
    },
    {
     "cell_type": "code",
     "collapsed": false,
     "input": [],
     "language": "python",
     "metadata": {},
     "outputs": []
    }
   ],
   "metadata": {}
  }
 ]
}