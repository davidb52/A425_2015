{
 "cells": [
  {
   "cell_type": "markdown",
   "metadata": {},
   "source": [
    "# ASTR 425 Problem Set 2"
   ]
  },
  {
   "cell_type": "markdown",
   "metadata": {},
   "source": [
    "Problem 1"
   ]
  },
  {
   "cell_type": "markdown",
   "metadata": {},
   "source": [
    "Angular Size of star at distance r:\n",
    "\n",
    "$\\delta(r) = 2 arcsin(\\frac{r_{star}}{2r})$\n",
    "\n",
    "Small angle aproximation :\n",
    "\n",
    "$arcsin(\\frac{r_{star}}{r}) \\approx 2(\\frac{r_{star}}{r})$\n",
    "\n",
    "Solid angle of star at distance r:\n",
    "\n",
    "$\\Omega(r) = \\pi\\delta^{2} \\approx = 4\\pi(\\frac{r_{star}}{r})^{2}$\n",
    "\n",
    "Total solid angle of stars:\n",
    "\n",
    "$\\Omega_{total} = \\int_{0}^{R} 4\\pi(\\frac{r_{star}}{r})^{2}\\rho r^{2}dr = 4\\pi r_{star}^{2} \\rho R$\n",
    "\n",
    "Solve for R when solid angle equal 1 steradian:\n",
    "\n",
    "$4\\pi = 4\\pi r_{star}^{2} \\rho R \\rightarrow R = (r_{star}^{2}\\rho)^{-1}$"
   ]
  },
  {
   "cell_type": "code",
   "execution_count": 114,
   "metadata": {
    "collapsed": false
   },
   "outputs": [
    {
     "name": "stdout",
     "output_type": "stream",
     "text": [
      "Populating the interactive namespace from numpy and matplotlib\n"
     ]
    }
   ],
   "source": [
    "%pylab inline"
   ]
  },
  {
   "cell_type": "code",
   "execution_count": 115,
   "metadata": {
    "collapsed": false
   },
   "outputs": [
    {
     "name": "stdout",
     "output_type": "stream",
     "text": [
      "1.94355020408e+17 Mpc\n"
     ]
    }
   ],
   "source": [
    "rho_s = 10e9/(3.086e22**3) #m^-3\n",
    "r_s = 7e8 # m \n",
    "\n",
    "R = (rho_s*(r_s)**2)**-1/3.086e22 # Mpc\n",
    "print R, 'Mpc'"
   ]
  },
  {
   "cell_type": "markdown",
   "metadata": {},
   "source": [
    "Problem 2"
   ]
  },
  {
   "cell_type": "code",
   "execution_count": 225,
   "metadata": {
    "collapsed": false
   },
   "outputs": [
    {
     "name": "stdout",
     "output_type": "stream",
     "text": [
      "Hubble underestimated the distance to Cepheids by a factor of approx: 7.14285714286\n",
      "The new age of the universe would therefore be:  1.95712836124 Gyr\n"
     ]
    }
   ],
   "source": [
    "print 'Hubble underestimated the distance to Cepheids by a factor of approx:' ,(70.0/500.0)**-1.0\n",
    "\n",
    "t_s = (3.086e22/500e3) #time in seconds\n",
    "t_gyr = t_s/(365*24*3600*1e9) #time in Gyr\n",
    "print 'The new age of the universe would therefore be: ', t_gyr, 'Gyr'"
   ]
  },
  {
   "cell_type": "markdown",
   "metadata": {},
   "source": [
    "To reconcile Hubble's incorrect constant with the actual age of the universe (at 13.7 Gyr), the universe would need to be accelerating. This is because the Hubble time (the inverse of Hubble's constant) assumes that the expansion is linear, so clearly if the incorrect measurement of $H_{0}$ shows the age of the universe to be only ~2 Gyrs, it would stand to reason that the recession speeds must have been far less earlier in the universes history."
   ]
  },
  {
   "cell_type": "markdown",
   "metadata": {},
   "source": [
    "Problem 3"
   ]
  },
  {
   "cell_type": "markdown",
   "metadata": {},
   "source": [
    "From Ryden (3.9) the distance metric in a 3d flat space is:\n",
    "\n",
    "$ds^{2} = dr^{2} + R^{2}sin^{2}(\\frac{r}{R})d\\theta^{2}$\n",
    "\n",
    "Now since we are on a sphere of constant radius R, dr = 0, thus:\n",
    "\n",
    "$ds^{2} =  R^{2}sin^{2}(\\frac{r}{R})d\\theta^{2}$\n",
    "\n",
    "This can be re-written as:\n",
    "\n",
    "$ds = Rsin(\\frac{r}{R})d\\theta$\n",
    "\n",
    "$d\\theta = \\frac{ds}{Rsin(\\frac{r}{R})}$\n",
    "\n",
    "From this expression we can see what happens as $r \\rightarrow \\pi R$. If we assume to be standing at the north pole of the sphere, and an object is a distance r away it will be at an angle $\\theta = \\frac{r}{R}$. The minimum value of $d\\theta$ would be when $r= \\frac{\\pi R}{2}$ (on the spheres equator). The value of $d\\theta$ diverges however once $r= \\pi R$ (at the north or south pole). Since between the poles of any sphere are inifinitely many geodesics the object would appear as if coming from all sides, whereas on the equator there should be only 1 geodesic."
   ]
  },
  {
   "cell_type": "markdown",
   "metadata": {},
   "source": [
    "Problem 4"
   ]
  },
  {
   "cell_type": "code",
   "execution_count": 227,
   "metadata": {
    "collapsed": false
   },
   "outputs": [
    {
     "data": {
      "image/png": "[encoded data removed]",
      "text/plain": [
       "<matplotlib.figure.Figure at 0x7fe8916f5b90>"
      ]
     },
     "metadata": {},
     "output_type": "display_data"
    }
   ],
   "source": [
    "H_0 = 70 # km s^-1 Mpc^-1 \n",
    "\n",
    "from scipy.integrate import quad\n",
    "fcn = lambda a,H_0: (a**(3.0/2.0)/H_0)\n",
    "\n",
    "def integrate(up_lim):\n",
    "    return  quad(fcn,0.0,up_lim,args=(H_0,))\n",
    "\n",
    "integrate = vectorize(integrate)\n",
    "a = np.linspace(0,10)\n",
    "t,err = integrate(a)\n",
    "  \n",
    "figure(figsize=(10,5))\n",
    "plot(t,a,ls='',marker='o',c='g')\n",
    "title('Numerical soln of a(t)')\n",
    "xlabel('t')\n",
    "ylabel('a')\n",
    "show()"
   ]
  },
  {
   "cell_type": "markdown",
   "metadata": {},
   "source": [
    "Algebraic solution of    $\\dot{a}^{2} = H_{0}^{2}a^{-3}$\n",
    "\n",
    "$(\\frac{d}{dt}a)^{2} = H_{0}^{2}a^{-3}$\n",
    "\n",
    "$\\sqrt[2]{(\\frac{d}{dt}a)^{2}} = \\pm\\sqrt[2]{H_{0}^{2}a^{-3}}$\n",
    "\n",
    "$\\frac{da}{dt} = \\pm H_{0}a^{-3/2}$\n",
    "\n",
    "$a^{3/2}da = \\pm H_{0}dt$\n",
    "\n",
    "$\\int a^{3/2}da = \\pm \\int H_{0}dt$\n",
    "\n",
    "$ \\frac{2}{5} a^{\\frac{2}{5}} = \\pm H_{0}T + c$\n",
    "\n",
    "$ a(t) = (\\frac{5}{2}(c \\pm H_{0}t))^{\\frac{2}{5}}$\n",
    "\n",
    "scale length must increase in an expanding universe thus (+) is the solution:\n",
    "$ a(t) = (\\frac{5}{2}(c + H_{0}t))^{\\frac{2}{5}}$"
   ]
  },
  {
   "cell_type": "code",
   "execution_count": 220,
   "metadata": {
    "collapsed": false
   },
   "outputs": [
    {
     "data": {
      "image/png": "[encoded data removed]",
      "text/plain": [
       "<matplotlib.figure.Figure at 0x7fe891982990>"
      ]
     },
     "metadata": {},
     "output_type": "display_data"
    }
   ],
   "source": [
    "def soln(t,H_0):\n",
    "    return ((5.0/2.0)*(H_0*t))**(2.0/5.0)\n",
    "\n",
    "figure(figsize=(10,5))\n",
    "plt.plot(t,soln(t,70),label = 'Algebraic soln')\n",
    "plt.plot(result,a,ls='',marker='o',label = 'Numeric soln')\n",
    "legend(loc=0)\n",
    "title('Comparison of Numerical and Algebraic Soln to a(t)')\n",
    "xlabel('t')\n",
    "ylabel('a')\n",
    "show()"
   ]
  },
  {
   "cell_type": "code",
   "execution_count": null,
   "metadata": {
    "collapsed": true
   },
   "outputs": [],
   "source": []
  },
  {
   "cell_type": "code",
   "execution_count": null,
   "metadata": {
    "collapsed": true
   },
   "outputs": [],
   "source": []
  }
 ],
 "metadata": {
  "kernelspec": {
   "display_name": "Python 2",
   "language": "python",
   "name": "python2"
  },
  "language_info": {
   "codemirror_mode": {
    "name": "ipython",
    "version": 2
   },
   "file_extension": ".py",
   "mimetype": "text/x-python",
   "name": "python",
   "nbconvert_exporter": "python",
   "pygments_lexer": "ipython2",
   "version": "2.7.10"
  }
 },
 "nbformat": 4,
 "nbformat_minor": 0
}
