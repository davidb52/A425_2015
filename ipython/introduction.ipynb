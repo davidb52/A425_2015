{
 "cells": [
  {
   "cell_type": "markdown",
   "metadata": {},
   "source": [
    "Each post here (including this one) is an ipython notebook. To view a static version of the notebook (with the code and figures embedded) simply click on *\"Read more...\"*. \n",
    "\n",
    "<!-- TEASER_END -->\n",
    "\n",
    "To download the notebook to your machine, click on *Source* (in the top right corner) and save the notebook to your harddrive. To run the notebook (assuming you have followed the [instructions](http://connolly.github.io/introAstroML/#instructions) simply type in the directory where you saved the notebook,\n",
    "\n",
    "    ipython notebook [notebook name.ipynb]\n",
    "and a page will come up in your browser with the notebook\n",
    "\n",
    "shift-return in each cell in the notebook will execute the code."
   ]
  },
  {
   "cell_type": "code",
   "execution_count": 1,
   "metadata": {
    "collapsed": false
   },
   "outputs": [
    {
     "name": "stdout",
     "output_type": "stream",
     "text": [
      "Hello astroML\n"
     ]
    }
   ],
   "source": [
    "print \"Hello cosmology\""
   ]
  },
  {
   "cell_type": "code",
   "execution_count": 2,
   "metadata": {
    "collapsed": false
   },
   "outputs": [
    {
     "name": "stdout",
     "output_type": "stream",
     "text": [
      "8\n"
     ]
    }
   ],
   "source": [
    "z01 = 1\n",
    "z12 = 3\n",
    "z02 = (1+z01)*(1+z12)\n",
    "print z02"
   ]
  },
  {
   "cell_type": "code",
   "execution_count": null,
   "metadata": {
    "collapsed": true
   },
   "outputs": [],
   "source": []
  }
 ],
 "metadata": {
  "kernelspec": {
   "display_name": "Python 2",
   "language": "python",
   "name": "python2"
  },
  "language_info": {
   "codemirror_mode": {
    "name": "ipython",
    "version": 2
   },
   "file_extension": ".py",
   "mimetype": "text/x-python",
   "name": "python",
   "nbconvert_exporter": "python",
   "pygments_lexer": "ipython2",
   "version": "2.7.10"
  }
 },
 "nbformat": 4,
 "nbformat_minor": 0
}
