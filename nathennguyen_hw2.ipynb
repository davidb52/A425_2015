{
 "cells": [
  {
   "cell_type": "code",
   "execution_count": 52,
   "metadata": {
    "collapsed": false
   },
   "outputs": [
    {
     "name": "stdout",
     "output_type": "stream",
     "text": [
      "1.61740530956282e-27\n",
      "1.854822648511579e+17\n"
     ]
    }
   ],
   "source": [
    "\"problem 1\" \n",
    "import math \n",
    "numberdensity = 10e9 #1/mpc^-3\n",
    "rstar = 2.269e-14 #mpc or 7e8 m\n",
    "\n",
    "print (math.pi*(rstar**2)) # gives the area of each star to the observer\n",
    "\n",
    "#numberdensity*(4/3 *math.pi *(r**2)) the number of stars as you expand out the sphere\n",
    "#multiply these two values and set it equal to the surface area of a sphere, \n",
    "#basically saying when the entire area of the sphere is filled by the areas of the stars\n",
    "#numberdensity*(4/3 *math.pi *(r**2)) * math.pi*(rstar**2) = 4*math.pi*(r**2) we get\n",
    "r = (3/(numberdensity*(math.pi*(rstar**2))))\n",
    "     \n",
    "print (r)"
   ]
  },
  {
   "cell_type": "code",
   "execution_count": 15,
   "metadata": {
    "collapsed": true
   },
   "outputs": [],
   "source": [
    "#comparing these two values, we see there is a massive distance. \n",
    "#1.85e+17 is a huge amount of space, but possible for an olberian universe since \n",
    "#t= inf and the universe itself is infinite.\n"
   ]
  },
  {
   "cell_type": "code",
   "execution_count": 16,
   "metadata": {
    "collapsed": false
   },
   "outputs": [
    {
     "name": "stdout",
     "output_type": "stream",
     "text": [
      "1957394566.8990486\n",
      "1.9573945668990487\n"
     ]
    }
   ],
   "source": [
    "\"problem 2\"\n",
    "#current H0 = 70 +/- 7 km*s^-1*mpc^-1, while Hubble himself calculated 500km*s^-1*mpc^-1\n",
    "#becuase z = (H0/c)*r, or written v = H0 * r, the hubble consatnt is calculated by v/r = H0\n",
    "#Hubble thought the r for the cephid stars was roughly 1/7 of what it actually is. \n",
    "#if the H0 was what Hubble originally calculated, with t= 1/H0\n",
    "H0 = 1.62e-17 # conversion from 500 km*s^-1*mpc^-1 to 1/s\n",
    "t = 1/H0\n",
    "#31536000 seconds in a year\n",
    "print (t/31536000)\n",
    "print (t/31536000/1e+9)"
   ]
  },
  {
   "cell_type": "code",
   "execution_count": 17,
   "metadata": {
    "collapsed": true
   },
   "outputs": [],
   "source": [
    "#if Hubble was correct, then the Hubble time, the estimate for the time of the universe, would only be 2 gigayears\n",
    "#from above we know that v = H0 *r, the Hubble time gives us the age of the universe if relative velocities are constant.\n",
    "#that would mean in order to fit our current model, the universe would have to be accelerating. \n",
    "#comparitively this makes sense, if the universe had H0 = 500, but it was as big as we see now, then in order to reconcile\n",
    "#with the current age of the universe, the Hubble constant would need to start smaller, and then grow in value until it would\n",
    "#reach H0 = 500, a larger v means a larger H0, v = H0 *r.\n",
    "#In short, if the universe was accelearting, the Hubble constant would give a larger value, which means we OBSERVE/CALCULATE\n",
    "#A smaller hubble time than the initial start of the universe. The universe would appear younger than it actually is. "
   ]
  },
  {
   "cell_type": "code",
   "execution_count": 18,
   "metadata": {
    "collapsed": false
   },
   "outputs": [
    {
     "data": {
      "text/plain": [
       "''"
      ]
     },
     "execution_count": 18,
     "metadata": {},
     "output_type": "execute_result"
    }
   ],
   "source": [
    "\"problem 3\"\n",
    "#this is a 2d positively curving space,i.e. k=+1 which gives #Sk = R*sin^2(r/R), thus we have the relation\n",
    "#ds^2 = dr^2 + R*sin^2(r/R)dtheata^2\n",
    "#rearrange for dthea, we get\n",
    "\"dtheata = sqrt[(ds^2-dr^2)/(R*sin^2(r/R))]\"\n",
    "#for positvely curved spaces, Sk approaches 0 as r/R approaches pi. (r approaches pi*R) \n",
    "#however, for calculating dtheta, because we divive by Sk, as Sk approaches 0, 1/Sk approaches inf, thus\n",
    "\"r -> pi*R, dtheta -> infinity\"\n",
    "''"
   ]
  },
  {
   "cell_type": "code",
   "execution_count": 3,
   "metadata": {
    "collapsed": false
   },
   "outputs": [],
   "source": [
    "\"problem 4\"\n",
    "from scipy.integrate import quad\n",
    "import numpy as np\n",
    "import pandas as pd\n",
    "import matplotlib.pyplot as plt\n",
    "%matplotlib inline\n"
   ]
  },
  {
   "cell_type": "code",
   "execution_count": 4,
   "metadata": {
    "collapsed": false
   },
   "outputs": [],
   "source": [
    "def nth_root(val, n):\n",
    "    ret = val**(1./n)\n",
    "    return ret + 1 if (ret + 1) ** n == val else ret"
   ]
  },
  {
   "cell_type": "code",
   "execution_count": 5,
   "metadata": {
    "collapsed": false
   },
   "outputs": [
    {
     "name": "stdout",
     "output_type": "stream",
     "text": [
      "1.4193336415231441\n"
     ]
    }
   ],
   "source": [
    "def integrand(x):\n",
    "    return (x**(3/2))\n",
    "#we will treat the age of the universe as 14.4 gigayeras, \n",
    "\n",
    "integral0, err = quad(integrand, 0, 1)\n",
    "\n",
    "ans0 = integral0 * 14.4\n",
    "print (nth_root(ans0,5))\n",
    "\n",
    "#because we get ln(timefinal/timeinitial), using 0 gets an error, ln(0) is not defined, so for this case I used 1.\n"
   ]
  },
  {
   "cell_type": "code",
   "execution_count": 39,
   "metadata": {
    "collapsed": false
   },
   "outputs": [],
   "source": [
    "step = 0.01 \n",
    "values = [] \n",
    "a = np.arange(0,1,step)\n",
    "for i in a: \n",
    "    intergral0,err = quad(integrand,0,i)\n",
    "    \n",
    "    values.append(integral0)\n",
    "    \n",
    "a = np.asarray(a)"
   ]
  },
  {
   "cell_type": "code",
   "execution_count": 45,
   "metadata": {
    "collapsed": false
   },
   "outputs": [
    {
     "name": "stdout",
     "output_type": "stream",
     "text": [
      "100\n",
      "100\n"
     ]
    }
   ],
   "source": [
    "import numpy as np\n",
    "import pandas as pd\n",
    "import matplotlib.pyplot as plt\n",
    "%matplotlib inline\n",
    "t = np.linspace(0,14.4,100) \n",
    "t2 = np.linspace(0,14.4,a.size)\n",
    "eq2 = ((5/2)*(1/14.4)*t)**(2/5)\n",
    "\n",
    "#I algebraically derived a = (5/2*H0*t)**(2/5)\n",
    "\n",
    "print (t2.size)\n",
    "print (a.size)"
   ]
  },
  {
   "cell_type": "code",
   "execution_count": 46,
   "metadata": {
    "collapsed": false
   },
   "outputs": [
    {
     "data": {
      "text/plain": [
       "[<matplotlib.lines.Line2D at 0x7fc979ce9e80>]"
      ]
     },
     "execution_count": 46,
     "metadata": {},
     "output_type": "execute_result"
    },
    {
     "data": {
      "image/png": "[encoded data removed]",
      "text/plain": [
       "<matplotlib.figure.Figure at 0x7fc979ce9f28>"
      ]
     },
     "metadata": {},
     "output_type": "display_data"
    }
   ],
   "source": [
    "\n",
    "t = np.linspace(-14.4,14.4,100)   \n",
    "#plt.plot(t,(4*(1 - t/14.4))**(1/5))\n",
    "plt.plot(t,eq2)\n",
    "plt.plot(t2,a)\n",
    "#plt.hlines((0), -15, 15, color='m', linewidth=2) "
   ]
  },
  {
   "cell_type": "code",
   "execution_count": null,
   "metadata": {
    "collapsed": true
   },
   "outputs": [],
   "source": [
    "# We see that our algebraically derived graph approaches our numerically derived value. "
   ]
  },
  {
   "cell_type": "code",
   "execution_count": null,
   "metadata": {
    "collapsed": true
   },
   "outputs": [],
   "source": []
  }
 ],
 "metadata": {
  "kernelspec": {
   "display_name": "Python 3",
   "language": "python",
   "name": "python3"
  },
  "language_info": {
   "codemirror_mode": {
    "name": "ipython",
    "version": 3
   },
   "file_extension": ".py",
   "mimetype": "text/x-python",
   "name": "python",
   "nbconvert_exporter": "python",
   "pygments_lexer": "ipython3",
   "version": "3.4.3"
  }
 },
 "nbformat": 4,
 "nbformat_minor": 0
}
